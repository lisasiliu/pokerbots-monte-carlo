{
  "cells": [
    {
      "cell_type": "markdown",
      "metadata": {
        "id": "vCAP2LN2KyfV"
      },
      "source": [
        "### **Installation**"
      ]
    },
    {
      "cell_type": "code",
      "execution_count": null,
      "metadata": {
        "colab": {
          "background_save": true
        },
        "id": "CtL9DT5--u6_"
      },
      "outputs": [],
      "source": [
        "%%capture\n",
        "!pip install open_spiel"
      ]
    },
    {
      "cell_type": "markdown",
      "metadata": {
        "id": "P7vbRWsJK4Jp"
      },
      "source": [
        "##### **Parameters / Documentation**"
      ]
    },
    {
      "cell_type": "markdown",
      "metadata": {
        "id": "MSEJWICODo3D"
      },
      "source": [
        "Documentation is a bit limited for the poker_spiel - parameters are available via [universal_poker.cc](https://github.com/google-deepmind/open_spiel/blob/master/open_spiel/games/universal_poker/universal_poker.cc)\n",
        "```\n",
        "{\n",
        "  // \"numPlayers\" is stored as GameParameter(2) -> INT\n",
        "  {\"numPlayers\", GameParameter(2)},\n",
        "\n",
        "  // \"betting\" is GameParameter(std::string(\"nolimit\")) -> STRING\n",
        "  {\"betting\", GameParameter(std::string(\"nolimit\"))},\n",
        "\n",
        "  // \"stack\" is GameParameter(std::string(\"1200 1200\")) -> STRING\n",
        "  {\"stack\", GameParameter(std::string(\"1200 1200\"))},\n",
        "\n",
        "  // \"blind\" is GameParameter(std::string(\"100 100\")) -> STRING\n",
        "  {\"blind\", GameParameter(std::string(\"100 100\"))},\n",
        "\n",
        "  // \"raiseSize\" is GameParameter(std::string(\"100 100\")) -> STRING\n",
        "  {\"raiseSize\", GameParameter(std::string(\"100 100\"))},\n",
        "\n",
        "  // \"numRounds\" is GameParameter(2) -> INT\n",
        "  {\"numRounds\", GameParameter(2)},\n",
        "\n",
        "  // \"firstPlayer\" is GameParameter(std::string(\"1 1\")) -> STRING\n",
        "  {\"firstPlayer\", GameParameter(std::string(\"1 1\"))},\n",
        "\n",
        "  // \"maxRaises\" is GameParameter(std::string(\"\")) -> STRING (empty by default)\n",
        "  {\"maxRaises\", GameParameter(std::string(\"\"))},\n",
        "\n",
        "  // \"numSuits\" is GameParameter(4) -> INT\n",
        "  {\"numSuits\", GameParameter(4)},\n",
        "\n",
        "  // \"numRanks\" is GameParameter(6) -> INT\n",
        "  {\"numRanks\", GameParameter(6)},\n",
        "\n",
        "  // \"numHoleCards\" is GameParameter(1) -> INT\n",
        "  {\"numHoleCards\", GameParameter(1)},\n",
        "\n",
        "  // \"numBoardCards\" is GameParameter(std::string(\"0 1\")) -> STRING\n",
        "  {\"numBoardCards\", GameParameter(std::string(\"0 1\"))},\n",
        "\n",
        "  // \"bettingAbstraction\" is GameParameter(std::string(\"fcpa\")) -> STRING\n",
        "  {\"bettingAbstraction\", GameParameter(std::string(\"fcpa\"))},\n",
        "\n",
        "  // \"potSize\" is GameParameter(0) -> INT\n",
        "  {\"potSize\", GameParameter(0)},\n",
        "\n",
        "  // \"boardCards\" is GameParameter(\"\") -> STRING\n",
        "  {\"boardCards\", GameParameter(\"\")},\n",
        "\n",
        "  // \"handReaches\" is GameParameter(\"\") -> STRING\n",
        "  {\"handReaches\", GameParameter(\"\")},\n",
        "}\n",
        "```"
      ]
    },
    {
      "cell_type": "markdown",
      "metadata": {
        "id": "GZY7fKLwK8oT"
      },
      "source": [
        "### **Pokerbot Example**"
      ]
    },
    {
      "cell_type": "markdown",
      "metadata": {
        "id": "uWggHymeLPbV"
      },
      "source": [
        "**Imports**"
      ]
    },
    {
      "cell_type": "code",
      "execution_count": null,
      "metadata": {
        "id": "k9yIa3hB-vN3"
      },
      "outputs": [],
      "source": [
        "import pyspiel\n",
        "import random"
      ]
    },
    {
      "cell_type": "markdown",
      "metadata": {
        "id": "2q_m6L8jLQfy"
      },
      "source": [
        "**Helper Code**"
      ]
    },
    {
      "cell_type": "code",
      "execution_count": null,
      "metadata": {
        "id": "_AhZoIAb-2lU"
      },
      "outputs": [],
      "source": [
        "RANK_CHARS = [\"2\",\"3\",\"4\",\"5\",\"6\",\"7\",\"8\",\"9\",\"T\",\"J\",\"Q\",\"K\",\"A\"]\n",
        "SUIT_CHARS = [\"c\",\"d\",\"h\",\"s\"]  # clubs, diamonds, hearts, spades\n",
        "\n",
        "def decode_card_id(card_id):\n",
        "    \"\"\"\n",
        "    Convert integer card_id (0..51) to a string like '2c', 'Ah', etc.\n",
        "    rank = card_id >> 2, suit = card_id & 3\n",
        "    \"\"\"\n",
        "    rank = card_id >> 2\n",
        "    suit = card_id & 3\n",
        "    return RANK_CHARS[rank] + SUIT_CHARS[suit]\n",
        "\n",
        "def describe_action(a):\n",
        "    if a == 0: return \"Fold\"\n",
        "    elif a == 1: return \"Call/Check\"\n",
        "    elif a == 2: return \"Bet/Raise\"\n",
        "    elif a == 3: return \"All-In\"\n",
        "    elif a == 4: return \"Half-Pot\"\n",
        "    return f\"CustomBet={a}\"\n",
        "\n",
        "# internal parser (ignore this -- this is to make making the bots easier)\n",
        "def parse_state_cards(state_str, num_players=2):\n",
        "    \"\"\"\n",
        "    Returns a dict with:\n",
        "      {\n",
        "        'player0': ['Qc','Jc'],  # example hole cards\n",
        "        'player1': ['2d','5h'],  # ...\n",
        "        'board': ['As','Kh','Td']\n",
        "      }\n",
        "    for each \"P{i} Cards: [..][..]\" line, we parse the bracketed tokens\n",
        "    also parse \"BoardCards [..][..][..]\" if present\n",
        "    \"\"\"\n",
        "    result = {f\"player{i}\":[] for i in range(num_players)}\n",
        "    result[\"board\"] = []\n",
        "\n",
        "    lines = state_str.split(\"\\n\")\n",
        "    for line in lines:\n",
        "        line = line.strip()\n",
        "        # e.g. \"P0 Cards: [Qc][Jc]\"\n",
        "        if line.startswith(\"P\") and \"Cards:\" in line:\n",
        "            # find which player\n",
        "            # e.g. \"P0 Cards:\" => '0'\n",
        "            prefix, after = line.split(\":\", 1)  # [\"P0 Cards\", \" [Qc][Jc]\"]\n",
        "            player_id = prefix.strip()[1]  # e.g. \"0\"\n",
        "            cards = []\n",
        "            # parse bracket tokens\n",
        "            for chunk in after.strip().split(\"]\"):\n",
        "                chunk = chunk.strip()\n",
        "                if chunk.startswith(\"[\"):\n",
        "                    card = chunk[1:].strip()  # e.g. \"Qc\"\n",
        "                    if card:\n",
        "                        cards.append(card)\n",
        "            result[f\"player{player_id}\"] = cards\n",
        "        elif line.startswith(\"BoardCards\"):\n",
        "            # e.g. \"BoardCards [As][Kh][Td]\"\n",
        "            after = line.split(\"BoardCards\")[-1]\n",
        "            # parse similarly\n",
        "            cards = []\n",
        "            for chunk in after.strip().split(\"]\"):\n",
        "                chunk = chunk.strip()\n",
        "                if chunk.startswith(\"[\"):\n",
        "                    card = chunk[1:].strip()\n",
        "                    if card:\n",
        "                        cards.append(card)\n",
        "            result[\"board\"] = cards\n",
        "    return result"
      ]
    },
    {
      "cell_type": "markdown",
      "metadata": {
        "id": "MSKIZFEzSq3V"
      },
      "source": [
        "#### **Main Code**"
      ]
    },
    {
      "cell_type": "markdown",
      "metadata": {
        "id": "KfBQuNZDLVZt"
      },
      "source": [
        "Base Pokerbot Class"
      ]
    },
    {
      "cell_type": "code",
      "execution_count": null,
      "metadata": {
        "id": "pOO35ry7LXVI"
      },
      "outputs": [],
      "source": [
        "class PokerBot:\n",
        "    \"\"\"\n",
        "    Base class for any bot.\n",
        "    - 'name' is for display.\n",
        "    - You must override 'get_action(state)'.\n",
        "    \"\"\"\n",
        "    def __init__(self, name=\"Bot\"):\n",
        "        self.name = name\n",
        "\n",
        "    def get_action(self, state):\n",
        "        \"\"\"Return an int representing your action choice (fold=0, call=1, etc.). check the util cell above for more info / references\"\"\"\n",
        "        raise NotImplementedError"
      ]
    },
    {
      "cell_type": "markdown",
      "metadata": {
        "id": "gmVZl1M-LYOH"
      },
      "source": [
        "**Creating a Pokerbot - Examples**"
      ]
    },
    {
      "cell_type": "markdown",
      "metadata": {
        "id": "nIa8q8WITiT9"
      },
      "source": [
        "All actions:\n"
      ]
    },
    {
      "cell_type": "code",
      "execution_count": null,
      "metadata": {
        "id": "cDCmhxZfLdNs"
      },
      "outputs": [],
      "source": [
        "class AlwaysCallBot(PokerBot):\n",
        "    def get_action(self, state):\n",
        "        acts = state.legal_actions()\n",
        "        if 1 in acts:\n",
        "            return 1\n",
        "        else:\n",
        "            acts[0]"
      ]
    },
    {
      "cell_type": "code",
      "execution_count": null,
      "metadata": {
        "id": "9xv02yUELXl8"
      },
      "outputs": [],
      "source": [
        "class RaiseBot(PokerBot):\n",
        "    \"\"\"Raise if possible, else call, else fold.\"\"\"\n",
        "    def get_action(self, state):\n",
        "        acts = state.legal_actions()\n",
        "        if 2 in acts: return 2\n",
        "        elif 1 in acts: return 1\n",
        "        else: return acts[0]"
      ]
    },
    {
      "cell_type": "code",
      "execution_count": null,
      "metadata": {
        "id": "Q74qYBWuLfzq"
      },
      "outputs": [],
      "source": [
        "# --------------- EXAMPLE HEURISTIC BOT ---------------\n",
        "class HeuristicBot(PokerBot):\n",
        "    \"\"\"\n",
        "    Example: If the board is [As][Kh][Td] and we hold [Qc][Jc],\n",
        "    we do a naive conditional prob check (p(A|B) ~ 15%).\n",
        "    If that prob is small, we raise/all-in; otherwise, we call.\n",
        "    Else (different scenario), default to calling.\n",
        "\n",
        "    This approach uses naive string matching on 'state.to_string()':\n",
        "       has_our_flop = \"BoardCards [As][Kh][Td]\" in s\n",
        "       has_our_hand = \"Qc][Jc\" in s\n",
        "    In reality, you'd parse the board and hole cards more robustly.\n",
        "    \"\"\"\n",
        "    def get_action(self, state):\n",
        "        s = state.to_string()\n",
        "        acts = state.legal_actions()\n",
        "\n",
        "        has_our_flop = \"BoardCards [As][Kh][Td]\" in s\n",
        "        has_our_hand = \"Qc][Jc\" in s\n",
        "        if has_our_flop and has_our_hand:\n",
        "            # Check if opponent likely raised preflop (look for 'p' in action sequence)\n",
        "            seq_part = s.split(\"Action Sequence:\")[-1]\n",
        "            if 'p' in seq_part:\n",
        "                # p(A|B) ~ 0.15\n",
        "                pAB = 0.8 * (2/52) / 0.2\n",
        "                if pAB < 0.2:\n",
        "                    if 3 in acts: return 3\n",
        "                    if 2 in acts: return 2\n",
        "                    if 1 in acts: return 1\n",
        "                    return acts[0]\n",
        "                else:\n",
        "                    return 1 if 1 in acts else acts[0]\n",
        "            else:\n",
        "                if 2 in acts: return 2\n",
        "                elif 1 in acts: return 1\n",
        "                else: return acts[0]\n",
        "        else:\n",
        "            # Default strategy: call\n",
        "            return 1 if 1 in acts else acts[0]"
      ]
    },
    {
      "cell_type": "code",
      "execution_count": null,
      "metadata": {
        "cellView": "form",
        "id": "pH7Q2JoCLkMK"
      },
      "outputs": [],
      "source": [
        "#@title Code for running the game - expand if you're interested, but it's essentially a parser and setting parameters\n",
        "def run_match(bot0, bot1, num_hands=3, game_params=None, verbose=True, num_players=2):\n",
        "    \"\"\"\n",
        "    Plays 'num_hands' of 2-player No-Limit Texas Hold'em between 'bot0' & 'bot1'.\n",
        "    Final results are printed after all hands.\n",
        "    \"\"\"\n",
        "    if game_params is None:\n",
        "        game_params = {\n",
        "            \"betting\": \"nolimit\",\n",
        "            \"numPlayers\": num_players,\n",
        "            \"blind\": \"1 2\"\n",
        "        }\n",
        "    game = pyspiel.load_game(\"universal_poker\", game_params)\n",
        "    totals = [0.0, 0.0]\n",
        "\n",
        "    for h in range(num_hands):\n",
        "        if verbose:\n",
        "            print(\"\\n=== HAND\", h+1, \"===\")\n",
        "        state = game.new_initial_state()\n",
        "\n",
        "        while not state.is_terminal():\n",
        "            if state.is_chance_node():\n",
        "                outs = state.chance_outcomes()\n",
        "                actions = []\n",
        "                probs = []\n",
        "                for pair in outs:\n",
        "                    actions.append(pair[0])\n",
        "                    probs.append(pair[1])\n",
        "                pick = random.choices(actions, probs)[0]\n",
        "                state.apply_action(pick)\n",
        "                if verbose:\n",
        "                    card_desc = decode_card(pick)\n",
        "                    print(\"Chance dealt card =>\", card_desc)\n",
        "            else:\n",
        "                cp = state.current_player()\n",
        "                if cp == 0:\n",
        "                    choice = bot0.get_action(state)\n",
        "                else:\n",
        "                    choice = bot1.get_action(state)\n",
        "\n",
        "                if verbose:\n",
        "                    print(\"Player\", cp, \"(\", [bot0.name, bot1.name][cp], \"):\", describe_action(choice))\n",
        "                    print(state)\n",
        "\n",
        "                state.apply_action(choice)\n",
        "\n",
        "        r = state.returns()\n",
        "        totals[0] += r[0]\n",
        "        totals[1] += r[1]\n",
        "        if verbose:\n",
        "            print(\"Hand result ->\", bot0.name, \":\", r[0], \",\", bot1.name, \":\", r[1])\n",
        "\n",
        "    print(\"\\n*** MATCH COMPLETE ***\")\n",
        "    print(\"Total for\", bot0.name, \":\", totals[0])\n",
        "    print(\"Total for\", bot1.name, \":\", totals[1])\n",
        "    print(\"**********************\")\n",
        "\n",
        "def run_round_robin(bots, num_hands=3, game_params=None, verbose=False):\n",
        "    \"\"\"\n",
        "    Each pair of bots plays a match.\n",
        "    Returns final scoreboard in dict form.\n",
        "    Also prints a summary in a nice format.\n",
        "    \"\"\"\n",
        "    if game_params is None:\n",
        "        game_params = {\n",
        "            \"betting\": \"nolimit\",\n",
        "            \"numPlayers\": 2,\n",
        "            \"blind\": \"1 2\"\n",
        "        }\n",
        "\n",
        "    # track cumulative scores\n",
        "    scores = {}\n",
        "    for b in bots:\n",
        "        scores[b.name] = 0.0\n",
        "\n",
        "    # run each pair\n",
        "    num_bots = len(bots)\n",
        "    for i in range(num_bots):\n",
        "        for j in range(i+1, num_bots):\n",
        "            botA = bots[i]\n",
        "            botB = bots[j]\n",
        "            print(\"\\n============================\")\n",
        "            print(\"MATCH:\", botA.name, \"vs.\", botB.name)\n",
        "            print(\"============================\")\n",
        "\n",
        "            # We'll do a simpler in-code version of run_match to accumulate results\n",
        "            game = pyspiel.load_game(\"universal_poker\", game_params)\n",
        "            match_totals = [0.0, 0.0]\n",
        "\n",
        "            for h in range(num_hands):\n",
        "                if verbose:\n",
        "                    print(\"\\n=== HAND\", h+1, \"===\")\n",
        "                state = game.new_initial_state()\n",
        "\n",
        "                while not state.is_terminal():\n",
        "                    if state.is_chance_node():\n",
        "                        outs = state.chance_outcomes()\n",
        "                        action_list = []\n",
        "                        prob_list = []\n",
        "                        for item in outs:\n",
        "                            action_list.append(item[0])\n",
        "                            prob_list.append(item[1])\n",
        "                        pick = random.choices(action_list, prob_list)[0]\n",
        "                        state.apply_action(pick)\n",
        "                        if verbose:\n",
        "                            print(\"Chance -> dealt:\", decode_card(pick))\n",
        "                    else:\n",
        "                        cp = state.current_player()\n",
        "                        if cp == 0:\n",
        "                            chosen = botA.get_action(state)\n",
        "                            if verbose:\n",
        "                                print(botA.name, \":\", describe_action(chosen))\n",
        "                        else:\n",
        "                            chosen = botB.get_action(state)\n",
        "                            if verbose:\n",
        "                                print(botB.name, \":\", describe_action(chosen))\n",
        "                        state.apply_action(chosen)\n",
        "                        if verbose:\n",
        "                            print(state)\n",
        "\n",
        "                returns = state.returns()\n",
        "                match_totals[0] += returns[0]\n",
        "                match_totals[1] += returns[1]\n",
        "                if verbose:\n",
        "                    print(\"Hand result ->\", botA.name, \":\", returns[0], \",\", botB.name, \":\", returns[1])\n",
        "\n",
        "            # after match\n",
        "            print(\"Final match totals ->\", botA.name, \":\", match_totals[0], \",\", botB.name, \":\", match_totals[1])\n",
        "            scores[botA.name] += match_totals[0]\n",
        "            scores[botB.name] += match_totals[1]\n",
        "\n",
        "    print(\"\\n==== ROUND ROBIN RESULTS ====\")\n",
        "    # Print scoreboard in a nice format\n",
        "    sorted_names = sorted(scores.keys())\n",
        "    for nm in sorted_names:\n",
        "        val = scores[nm]\n",
        "        print(f\"{nm} => {val}\")\n",
        "    return scores"
      ]
    },
    {
      "cell_type": "markdown",
      "metadata": {
        "id": "xmT2uNqmPtpz"
      },
      "source": [
        "Usage:\n",
        "```\n",
        "run_match(bot1, bot2, num_hands, verbose)\n",
        "```\n",
        "* bot1/bot2 = bots\n",
        "* num_hands = number of hands to play\n",
        "* verbose = debugger if you want to see all the hands played\n",
        "\n",
        "```\n",
        "run_round_robin(bots, num_hands=3, game_params=None, verbose=False)\n",
        "```"
      ]
    },
    {
      "cell_type": "markdown",
      "metadata": {
        "id": "GIXAnb8eQQwc"
      },
      "source": [
        "random example bots"
      ]
    },
    {
      "cell_type": "markdown",
      "metadata": {
        "id": "nrjznK72XfTo"
      },
      "source": [
        "a bot that always folds"
      ]
    },
    {
      "cell_type": "code",
      "execution_count": null,
      "metadata": {
        "id": "yzl6mMzwL2ZE"
      },
      "outputs": [],
      "source": [
        "class FoldBot(PokerBot):\n",
        "    \"\"\"Always folds if it can, else picks the first available action.\"\"\"\n",
        "    def get_action(self, state):\n",
        "        legal = state.legal_actions()\n",
        "        if 0 in legal:\n",
        "            return 0  # fold\n",
        "        else:\n",
        "            return legal[0]"
      ]
    },
    {
      "cell_type": "code",
      "execution_count": null,
      "metadata": {
        "id": "Odb99JfOQPRi"
      },
      "outputs": [],
      "source": [
        "class CallBot(PokerBot):\n",
        "    \"\"\"Always calls/checks if possible, else folds.\"\"\"\n",
        "    def get_action(self, state):\n",
        "        legal = state.legal_actions()\n",
        "        if 1 in legal:\n",
        "            return 1  # call/check\n",
        "        else:\n",
        "            return legal[0]  # fallback (often fold)"
      ]
    },
    {
      "cell_type": "code",
      "execution_count": null,
      "metadata": {
        "id": "B58CV1NEQsPo"
      },
      "outputs": [],
      "source": [
        "class RaiseBot(PokerBot):\n",
        "    \"\"\"Always raises if possible, else calls, else folds.\"\"\"\n",
        "    def get_action(self, state):\n",
        "        legal = state.legal_actions()\n",
        "        if 2 in legal:\n",
        "            return 2  # bet/raise\n",
        "        elif 1 in legal:\n",
        "            return 1  # call\n",
        "        else:\n",
        "            return legal[0]  # fold"
      ]
    },
    {
      "cell_type": "code",
      "execution_count": null,
      "metadata": {
        "id": "DxTR7gjMQS8p"
      },
      "outputs": [],
      "source": [
        "class RandomBot(PokerBot):\n",
        "    \"\"\"Chooses any legal action uniformly at random.\"\"\"\n",
        "    def get_action(self, state):\n",
        "        legal = state.legal_actions()\n",
        "        return random.choice(legal)"
      ]
    },
    {
      "cell_type": "code",
      "execution_count": null,
      "metadata": {
        "id": "P2cqw4-dQW6h"
      },
      "outputs": [],
      "source": [
        "class MinRaiseBot(PokerBot):\n",
        "    \"\"\"\n",
        "    Always tries the minimum raise above a call,\n",
        "    if that is supported in fullgame mode.\n",
        "    Otherwise calls, otherwise folds.\n",
        "    \"\"\"\n",
        "    def get_action(self, state):\n",
        "        legal = state.legal_actions()\n",
        "        if 2 in legal:\n",
        "            return 2\n",
        "        elif 1 in legal:\n",
        "            return 1\n",
        "        else:\n",
        "            return legal[0]"
      ]
    },
    {
      "cell_type": "markdown",
      "metadata": {
        "id": "Zj8UCFAtaEKZ"
      },
      "source": [
        "More complex examples"
      ]
    },
    {
      "cell_type": "code",
      "execution_count": null,
      "metadata": {
        "id": "6YeCESQmQaab"
      },
      "outputs": [],
      "source": [
        "class LooseBot(PokerBot):\n",
        "    \"\"\"\n",
        "    Loose style: tries to raise 70% if it's legal, otherwise calls, rarely folds.\n",
        "    \"\"\"\n",
        "    def get_action(self, state):\n",
        "        legal = state.legal_actions()\n",
        "        can_raise = False\n",
        "        for act in legal:\n",
        "            if act == 2:\n",
        "                can_raise = True\n",
        "                break\n",
        "\n",
        "        if can_raise:\n",
        "            # 70% chance to raise, else call\n",
        "            val = random.random()\n",
        "            if val < 0.7:\n",
        "                return 2\n",
        "            else:\n",
        "                if 1 in legal:\n",
        "                    return 1\n",
        "                else:\n",
        "                    return legal[0]\n",
        "        else:\n",
        "            if 1 in legal:\n",
        "                return 1\n",
        "            else:\n",
        "                return legal[0]"
      ]
    },
    {
      "cell_type": "code",
      "execution_count": null,
      "metadata": {
        "id": "_jeMKMQVQbuf"
      },
      "outputs": [],
      "source": [
        "class Aggressive(PokerBot):\n",
        "    \"\"\"\n",
        "    If it doesn't see an 'A' or 'K' in its hole cards, it folds preflop.\n",
        "    Otherwise calls or raises. Very naive logic.\n",
        "    \"\"\"\n",
        "    def get_action(self, state):\n",
        "        legal = state.legal_actions()\n",
        "        s = state.to_string()\n",
        "        # find which player\n",
        "        current_player = state.current_player()\n",
        "        hole_line = \"P\" + str(current_player) + \" Cards:\"\n",
        "        # parse line\n",
        "        cards_found = []\n",
        "        lines = s.split(\"\\n\")\n",
        "        for line in lines:\n",
        "            if line.startswith(hole_line):\n",
        "                # e.g. \"P0 Cards: [4c][Ac]\"\n",
        "                parts = line.split(\"]\")\n",
        "                for p in parts:\n",
        "                    p = p.strip()\n",
        "                    if p.startswith(\"[\"):\n",
        "                        c = p[1:]  # e.g. \"4c\" or \"Ac\"\n",
        "                        cards_found.append(c)\n",
        "                break\n",
        "\n",
        "        # if none of our hole cards is K or A => fold if possible\n",
        "        rank_trigger = False\n",
        "        for c in cards_found:\n",
        "            # first char is rank\n",
        "            rank_char = c[0]\n",
        "            if rank_char == \"K\" or rank_char == \"A\":\n",
        "                rank_trigger = True\n",
        "\n",
        "        if not rank_trigger:\n",
        "            # try to fold\n",
        "            if 0 in legal:\n",
        "                return 0\n",
        "            else:\n",
        "                if 1 in legal:\n",
        "                    return 1\n",
        "                else:\n",
        "                    return legal[0]\n",
        "        else:\n",
        "            # if we can raise, do it\n",
        "            if 2 in legal:\n",
        "                return 2\n",
        "            elif 1 in legal:\n",
        "                return 1\n",
        "            else:\n",
        "                return legal[0]"
      ]
    },
    {
      "cell_type": "code",
      "execution_count": null,
      "metadata": {
        "id": "BUIAzCijQ0xG"
      },
      "outputs": [],
      "source": [
        "class ConditionalProbBot(PokerBot):\n",
        "    \"\"\"\n",
        "    Toy scenario-based logic from lecture example: if we see the flop [As][Kh][Td] and hole [Qc][Jc],\n",
        "    we do a naive p(A|B) ~ 15% check -> raise or call. Otherwise, just call.\n",
        "    \"\"\"\n",
        "    def get_action(self, state):\n",
        "        legal = state.legal_actions()\n",
        "        s = state.to_string()\n",
        "        if \"BoardCards [As][Kh][Td]\" in s and \"Qc][Jc\" in s:\n",
        "            # check if there's a 'p' in the action seq => interpret as preflop raise\n",
        "            seq_part = s.split(\"Action Sequence:\")[-1]\n",
        "            if 'p' in seq_part:\n",
        "                # ~15% chance\n",
        "                pAB = 0.8*(2.0/52.0)/0.2\n",
        "                if pAB < 0.2:\n",
        "                    if 3 in legal:\n",
        "                        return 3\n",
        "                    if 2 in legal:\n",
        "                        return 2\n",
        "                    if 1 in legal:\n",
        "                        return 1\n",
        "                    return legal[0]\n",
        "                else:\n",
        "                    if 1 in legal:\n",
        "                        return 1\n",
        "                    return legal[0]\n",
        "            else:\n",
        "                if 2 in legal:\n",
        "                    return 2\n",
        "                elif 1 in legal:\n",
        "                    return 1\n",
        "                return legal[0]\n",
        "        else:\n",
        "            if 1 in legal:\n",
        "                return 1\n",
        "            else:\n",
        "                return legal[0]"
      ]
    },
    {
      "cell_type": "code",
      "execution_count": null,
      "metadata": {
        "id": "BvcGkeZObXpt"
      },
      "outputs": [],
      "source": [
        "class AllIn(PokerBot):\n",
        "    \"\"\"\n",
        "    go all in all the time\n",
        "\n",
        "    pseudocode:\n",
        "        check for legal actions\n",
        "        check if you can all in\n",
        "        else if check\n",
        "        else do whatever is available in legal actions\n",
        "    \"\"\"\n",
        "    def get_action(self, state):\n",
        "      legal = state.legal_actions()\n",
        "      can_allin = False\n",
        "      for act in legal:\n",
        "        if act == 3:\n",
        "          can_allin = True\n",
        "          break\n",
        "\n",
        "      if can_allin:\n",
        "        return 3\n",
        "      elif 1 in legal:\n",
        "        return 1\n",
        "      else:\n",
        "        return legal[0]"
      ]
    },
    {
      "cell_type": "markdown",
      "metadata": {
        "id": "a6m2c1OacTG3"
      },
      "source": [
        "A more robust example"
      ]
    },
    {
      "cell_type": "code",
      "execution_count": null,
      "metadata": {
        "id": "jGNAjK9Garug"
      },
      "outputs": [],
      "source": [
        "class StrategicBot(PokerBot):\n",
        "    \"\"\"Makes strategic decisions based on hand strength, board cards, and heuristics.\"\"\"\n",
        "    def __init__(self, name=\"StrategicBot\"):\n",
        "        super().__init__(name)\n",
        "\n",
        "    def evaluate_hand_strength(self, hole_cards, board_cards):\n",
        "        \"\"\"\n",
        "        Simplistic hand evaluator.\n",
        "        Returns: \"strong\", \"decent\", or \"weak\".\n",
        "        \"\"\"\n",
        "        # Example: check for pairs or straight draws\n",
        "        ranks = [card[0] for card in hole_cards + board_cards]\n",
        "        unique_ranks = set(ranks)\n",
        "\n",
        "        # Simplistic rules for now\n",
        "        if len(unique_ranks) <= len(hole_cards):  # Pair or better\n",
        "            return \"strong\"\n",
        "        elif len(unique_ranks) <= len(hole_cards) + 1:  # Potential draw\n",
        "            return \"decent\"\n",
        "        else:\n",
        "            return \"weak\"\n",
        "\n",
        "    def get_action(self, state):\n",
        "        # Get legal actions\n",
        "        legal_actions = state.legal_actions()\n",
        "        # Parse hole cards and board cards\n",
        "        s = state.to_string()\n",
        "        lines = s.split(\"\\n\")\n",
        "        hole_cards = []\n",
        "        board_cards = []\n",
        "        current_player = state.current_player()\n",
        "\n",
        "        for line in lines:\n",
        "            if line.startswith(f\"P{current_player} Cards:\"):\n",
        "                # Extract hole cards (e.g., \"P0 Cards: [Ah][Kd]\")\n",
        "                parts = line.split(\"]\")\n",
        "                for p in parts:\n",
        "                    if \"[\" in p:\n",
        "                        hole_cards.append(p.split(\"[\")[1])\n",
        "            if line.startswith(\"BoardCards\"):\n",
        "                # Extract board cards (e.g., \"BoardCards [As][Kh][Td]\")\n",
        "                parts = line.split(\"]\")\n",
        "                for p in parts:\n",
        "                    if \"[\" in p:\n",
        "                        board_cards.append(p.split(\"[\")[1])\n",
        "\n",
        "        # Evaluate hand strength\n",
        "        hand_strength = self.evaluate_hand_strength(hole_cards, board_cards)\n",
        "\n",
        "        # Decision-making\n",
        "        if hand_strength == \"strong\":\n",
        "            if 2 in legal_actions:  # Raise\n",
        "                return 2\n",
        "            elif 1 in legal_actions:  # Call/Check\n",
        "                return 1\n",
        "            else:  # Fallback (fold unlikely here)\n",
        "                return legal_actions[0]\n",
        "        elif hand_strength == \"decent\":\n",
        "            if 1 in legal_actions:  # Call/Check\n",
        "                return 1\n",
        "            else:\n",
        "                return legal_actions[0]  # Fallback (fold)\n",
        "        else:  # Weak hand\n",
        "            if 0 in legal_actions:  # Fold\n",
        "                return 0\n",
        "            elif 1 in legal_actions:  # Call/Check (rare)\n",
        "                return 1\n",
        "            else:\n",
        "                return legal_actions[0]"
      ]
    },
    {
      "cell_type": "code",
      "execution_count": null,
      "metadata": {
        "id": "3dQW7jX0D0Fq"
      },
      "outputs": [],
      "source": [
        "import numpy as np\n",
        "import copy\n",
        "import math\n",
        "\n",
        "class MonteCarloNode():\n",
        "  def __init__(self, state, parent=None):\n",
        "    self.state = state\n",
        "    self.win_amt = 0\n",
        "    self.num_visits = 0\n",
        "    self.parent = parent\n",
        "    self.children = [] # (node, action)\n",
        "    self.untried_actions = state.legal_actions()\n",
        "    self.is_terminal = state.is_terminal()\n",
        "\n",
        "class MonteCarloBot(PokerBot):\n",
        "  ITERATION_BUDGET = 5000 # feel free to modify, higher budget = more simulations = better bot\n",
        "\n",
        "  # from strategic bot\n",
        "  def evaluate_hand_strength(self, state):\n",
        "        hole_cards = []\n",
        "        board_cards = []\n",
        "        current_player = state.current_player()\n",
        "\n",
        "        s = state.to_string()\n",
        "        lines = s.split(\"\\n\")\n",
        "        for line in lines:\n",
        "            if line.startswith(f\"P{current_player} Cards:\"):\n",
        "                # Extract hole cards (e.g., \"P0 Cards: [Ah][Kd]\")\n",
        "                parts = line.split(\"]\")\n",
        "                for p in parts:\n",
        "                    if \"[\" in p:\n",
        "                        hole_cards.append(p.split(\"[\")[1])\n",
        "            if line.startswith(\"BoardCards\"):\n",
        "                # Extract board cards (e.g., \"BoardCards [As][Kh][Td]\")\n",
        "                parts = line.split(\"]\")\n",
        "                for p in parts:\n",
        "                    if \"[\" in p:\n",
        "                        board_cards.append(p.split(\"[\")[1])\n",
        "\n",
        "        ranks = [card[0] for card in hole_cards + board_cards]\n",
        "        unique_ranks = set(ranks)\n",
        "        if len(unique_ranks) <= len(hole_cards):  # Pair or better\n",
        "            return \"strong\"\n",
        "        elif len(unique_ranks) <= len(hole_cards) + 1:  # Potential draw\n",
        "            return \"decent\"\n",
        "        else:\n",
        "            return \"weak\"\n",
        "\n",
        "  # from strategic bot\n",
        "  def strategic_move(self, hand_strength, legal_actions):\n",
        "        if hand_strength == \"strong\":\n",
        "            return 2 if 2 in legal_actions else (1 if 1 in legal_actions else legal_actions[0])\n",
        "        elif hand_strength == \"decent\":\n",
        "            return 1 if 1 in legal_actions else legal_actions[0]\n",
        "        else:\n",
        "            return 0 if 0 in legal_actions else (1 if 1 in legal_actions else legal_actions[0])\n",
        "\n",
        "  def get_action(self, state):\n",
        "    self.root = MonteCarloNode(state)\n",
        "    iters = 0\n",
        "    while (iters < self.ITERATION_BUDGET):\n",
        "      node = self.select(self.root)\n",
        "      reward = self.simulate(node)\n",
        "      self.backpropagate(node, reward)\n",
        "      iters += 1\n",
        "    action = self.best_child(self.root, 0)[1]\n",
        "    return action\n",
        "\n",
        "  def select(self, node):\n",
        "    while not node.is_terminal:\n",
        "        if len(node.untried_actions) != 0:\n",
        "            return self.expand(node)\n",
        "        else:\n",
        "            node = self.best_child(node, c=1)[0]\n",
        "    return node\n",
        "\n",
        "  def expand(self, node):\n",
        "    action = node.untried_actions.pop(0)\n",
        "    child_state = copy.deepcopy(node.state)\n",
        "    child_state.apply_action(action)\n",
        "    child_node = MonteCarloNode(child_state, node)\n",
        "    node.children.append((action, child_node))\n",
        "    return child_node\n",
        "\n",
        "  def simulate(self, node): # default policy: strong/weak hands\n",
        "    cur_state = copy.deepcopy(node.state)\n",
        "    while not cur_state.is_terminal():\n",
        "      # evaluate the strength of your current hand\n",
        "      hand_strength = self.evaluate_hand_strength(cur_state)\n",
        "      legal_actions = cur_state.legal_actions()\n",
        "      # make moves based on strategic bot\n",
        "      action = self.strategic_move(hand_strength, legal_actions)\n",
        "      cur_state.apply_action(action)\n",
        "    return cur_state.returns()[0]\n",
        "\n",
        "  def backpropagate(self, node, reward):\n",
        "    # each node should store the number of wins for the player of its parent node\n",
        "    while node is not None:\n",
        "          node.num_visits += 1\n",
        "          # reward = -reward\n",
        "          node.win_amt -= reward\n",
        "          node = node.parent\n",
        "\n",
        "  def best_child(self, node, c=1):\n",
        "    # determine the best child and action by applying the UCB formula\n",
        "    best_child_node = None # to store the child node with best UCB\n",
        "    best_action = None # to store the action that leads to the best child\n",
        "\n",
        "    N_parent = node.num_visits\n",
        "    best_ucb = 0\n",
        "\n",
        "    for child in node.children:\n",
        "        N_child = child[1].num_visits\n",
        "        Q_child = child[1].win_amt\n",
        "        cur_ucb = (Q_child / N_child) + (c * math.sqrt(2 * math.log(N_parent) / N_child))\n",
        "        if cur_ucb > best_ucb or best_ucb == 0:\n",
        "            best_ucb = cur_ucb\n",
        "            best_action = child[0]\n",
        "            best_child_node = child[1]\n",
        "\n",
        "    return best_child_node, best_action\n"
      ]
    },
    {
      "cell_type": "markdown",
      "metadata": {
        "id": "E26bR6jSbKmI"
      },
      "source": [
        "### Running Matches"
      ]
    },
    {
      "cell_type": "code",
      "execution_count": null,
      "metadata": {
        "id": "1THZG2s5bOtd"
      },
      "outputs": [],
      "source": [
        "# bots\n",
        "\n",
        "b1 = FoldBot(\"Folder\")\n",
        "b2 = CallBot(\"Caller\")\n",
        "b3 = RaiseBot(\"Raiser\")\n",
        "b4 = ConditionalProbBot(\"Conditional\")\n",
        "b5 = Aggressive(\"Aggro\")\n",
        "b6 = MonteCarloBot(\"MonteCarlo\")\n",
        "robust = StrategicBot(\"Strategy\")"
      ]
    },
    {
      "cell_type": "code",
      "execution_count": null,
      "metadata": {
        "colab": {
          "base_uri": "https://localhost:8080/"
        },
        "id": "AOT1SDBHbMcq",
        "outputId": "943774cc-fb57-4e43-a328-b6865d0c76e8"
      },
      "outputs": [
        {
          "name": "stdout",
          "output_type": "stream",
          "text": [
            "\n",
            "*** MATCH COMPLETE ***\n",
            "Total for Raiser : -1200.0\n",
            "Total for MonteCarlo : 1200.0\n",
            "**********************\n"
          ]
        }
      ],
      "source": [
        "run_match(b3, b6, num_hands=1, verbose=False)"
      ]
    },
    {
      "cell_type": "code",
      "execution_count": null,
      "metadata": {
        "colab": {
          "base_uri": "https://localhost:8080/"
        },
        "id": "D8CEtVgLydQu",
        "outputId": "fc313ae9-ebf5-482c-fb4d-8c61fea28939"
      },
      "outputs": [
        {
          "name": "stdout",
          "output_type": "stream",
          "text": [
            "\n",
            "*** MATCH COMPLETE ***\n",
            "Total for Raiser : -2392.0\n",
            "Total for MonteCarlo : 2392.0\n",
            "**********************\n"
          ]
        }
      ],
      "source": [
        "run_match(b3, b6, num_hands=10, verbose=False)"
      ]
    },
    {
      "cell_type": "code",
      "execution_count": null,
      "metadata": {
        "colab": {
          "base_uri": "https://localhost:8080/"
        },
        "id": "sv1j4p2dRIdc",
        "outputId": "35826b86-7089-41e5-f6d7-dfb53a045d80"
      },
      "outputs": [
        {
          "name": "stdout",
          "output_type": "stream",
          "text": [
            "\n",
            "============================\n",
            "MATCH: Folder vs. Caller\n",
            "============================\n",
            "Final match totals -> Folder : -5.0 , Caller : 5.0\n",
            "\n",
            "============================\n",
            "MATCH: Folder vs. Raiser\n",
            "============================\n",
            "Final match totals -> Folder : -5.0 , Raiser : 5.0\n",
            "\n",
            "============================\n",
            "MATCH: Folder vs. Conditional\n",
            "============================\n",
            "Final match totals -> Folder : -5.0 , Conditional : 5.0\n",
            "\n",
            "============================\n",
            "MATCH: Folder vs. Aggro\n",
            "============================\n",
            "Final match totals -> Folder : -5.0 , Aggro : 5.0\n",
            "\n",
            "============================\n",
            "MATCH: Folder vs. MonteCarlo\n",
            "============================\n",
            "Final match totals -> Folder : -5.0 , MonteCarlo : 5.0\n",
            "\n",
            "============================\n",
            "MATCH: Folder vs. Strategy\n",
            "============================\n",
            "Final match totals -> Folder : -5.0 , Strategy : 5.0\n",
            "\n",
            "============================\n",
            "MATCH: Caller vs. Raiser\n",
            "============================\n",
            "Final match totals -> Caller : 18.0 , Raiser : -18.0\n",
            "\n",
            "============================\n",
            "MATCH: Caller vs. Conditional\n",
            "============================\n",
            "Final match totals -> Caller : 2.0 , Conditional : -2.0\n",
            "\n",
            "============================\n",
            "MATCH: Caller vs. Aggro\n",
            "============================\n",
            "Final match totals -> Caller : -6.0 , Aggro : 6.0\n",
            "\n",
            "============================\n",
            "MATCH: Caller vs. MonteCarlo\n",
            "============================\n",
            "Final match totals -> Caller : 6.0 , MonteCarlo : -6.0\n",
            "\n",
            "============================\n",
            "MATCH: Caller vs. Strategy\n",
            "============================\n",
            "Final match totals -> Caller : -72.0 , Strategy : 72.0\n",
            "\n",
            "============================\n",
            "MATCH: Raiser vs. Conditional\n",
            "============================\n",
            "Final match totals -> Raiser : 18.0 , Conditional : -18.0\n",
            "\n",
            "============================\n",
            "MATCH: Raiser vs. Aggro\n",
            "============================\n",
            "Final match totals -> Raiser : 10.0 , Aggro : -10.0\n",
            "\n",
            "============================\n",
            "MATCH: Raiser vs. MonteCarlo\n",
            "============================\n",
            "Final match totals -> Raiser : -1194.0 , MonteCarlo : 1194.0\n",
            "\n",
            "============================\n",
            "MATCH: Raiser vs. Strategy\n",
            "============================\n",
            "Final match totals -> Raiser : -486.0 , Strategy : 486.0\n",
            "\n",
            "============================\n",
            "MATCH: Conditional vs. Aggro\n",
            "============================\n",
            "Final match totals -> Conditional : -6.0 , Aggro : 6.0\n",
            "\n",
            "============================\n",
            "MATCH: Conditional vs. MonteCarlo\n",
            "============================\n",
            "Final match totals -> Conditional : -1194.0 , MonteCarlo : 1194.0\n",
            "\n",
            "============================\n",
            "MATCH: Conditional vs. Strategy\n",
            "============================\n",
            "Final match totals -> Conditional : 0.0 , Strategy : 0.0\n",
            "\n",
            "============================\n",
            "MATCH: Aggro vs. MonteCarlo\n",
            "============================\n",
            "Final match totals -> Aggro : -5.0 , MonteCarlo : 5.0\n",
            "\n",
            "============================\n",
            "MATCH: Aggro vs. Strategy\n",
            "============================\n",
            "Final match totals -> Aggro : -5.0 , Strategy : 5.0\n",
            "\n",
            "============================\n",
            "MATCH: MonteCarlo vs. Strategy\n",
            "============================\n",
            "Final match totals -> MonteCarlo : 1454.0 , Strategy : -1454.0\n",
            "\n",
            "==== ROUND ROBIN RESULTS ====\n",
            "Aggro => -3.0\n",
            "Caller => -47.0\n",
            "Conditional => -1215.0\n",
            "Folder => -30.0\n",
            "MonteCarlo => 3846.0\n",
            "Raiser => -1665.0\n",
            "Strategy => -886.0\n"
          ]
        },
        {
          "data": {
            "text/plain": [
              "{'Folder': -30.0,\n",
              " 'Caller': -47.0,\n",
              " 'Raiser': -1665.0,\n",
              " 'Conditional': -1215.0,\n",
              " 'Aggro': -3.0,\n",
              " 'MonteCarlo': 3846.0,\n",
              " 'Strategy': -886.0}"
            ]
          },
          "execution_count": 156,
          "metadata": {},
          "output_type": "execute_result"
        }
      ],
      "source": [
        "run_round_robin([b1,b2,b3,b4,b5,b6, robust], num_hands=5, verbose=False)"
      ]
    },
    {
      "cell_type": "code",
      "execution_count": null,
      "metadata": {
        "id": "j6-D9qJHD5lF"
      },
      "outputs": [],
      "source": []
    }
  ],
  "metadata": {
    "colab": {
      "collapsed_sections": [
        "P7vbRWsJK4Jp"
      ],
      "machine_shape": "hm",
      "provenance": []
    },
    "kernelspec": {
      "display_name": "Python 3",
      "name": "python3"
    },
    "language_info": {
      "name": "python"
    }
  },
  "nbformat": 4,
  "nbformat_minor": 0
}